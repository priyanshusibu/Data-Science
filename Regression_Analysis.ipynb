{
 "cells": [
  {
   "cell_type": "code",
   "execution_count": 24,
   "id": "37bf0d85",
   "metadata": {},
   "outputs": [],
   "source": [
    "import pandas as pd\n",
    "import numpy as np"
   ]
  },
  {
   "cell_type": "code",
   "execution_count": 25,
   "id": "a05beacf",
   "metadata": {},
   "outputs": [],
   "source": [
    "dataset=pd.read_csv(\"Mall_Customers.csv\")"
   ]
  },
  {
   "cell_type": "code",
   "execution_count": 26,
   "id": "779dd99f",
   "metadata": {},
   "outputs": [
    {
     "data": {
      "text/html": [
       "<div>\n",
       "<style scoped>\n",
       "    .dataframe tbody tr th:only-of-type {\n",
       "        vertical-align: middle;\n",
       "    }\n",
       "\n",
       "    .dataframe tbody tr th {\n",
       "        vertical-align: top;\n",
       "    }\n",
       "\n",
       "    .dataframe thead th {\n",
       "        text-align: right;\n",
       "    }\n",
       "</style>\n",
       "<table border=\"1\" class=\"dataframe\">\n",
       "  <thead>\n",
       "    <tr style=\"text-align: right;\">\n",
       "      <th></th>\n",
       "      <th>CustomerID</th>\n",
       "      <th>Genre</th>\n",
       "      <th>Age</th>\n",
       "      <th>Annual_Income_(k$)</th>\n",
       "      <th>Spending_Score</th>\n",
       "    </tr>\n",
       "  </thead>\n",
       "  <tbody>\n",
       "    <tr>\n",
       "      <th>0</th>\n",
       "      <td>1</td>\n",
       "      <td>Male</td>\n",
       "      <td>19</td>\n",
       "      <td>15</td>\n",
       "      <td>39</td>\n",
       "    </tr>\n",
       "    <tr>\n",
       "      <th>1</th>\n",
       "      <td>2</td>\n",
       "      <td>Male</td>\n",
       "      <td>21</td>\n",
       "      <td>15</td>\n",
       "      <td>81</td>\n",
       "    </tr>\n",
       "    <tr>\n",
       "      <th>2</th>\n",
       "      <td>3</td>\n",
       "      <td>Female</td>\n",
       "      <td>20</td>\n",
       "      <td>16</td>\n",
       "      <td>6</td>\n",
       "    </tr>\n",
       "    <tr>\n",
       "      <th>3</th>\n",
       "      <td>4</td>\n",
       "      <td>Female</td>\n",
       "      <td>23</td>\n",
       "      <td>16</td>\n",
       "      <td>77</td>\n",
       "    </tr>\n",
       "    <tr>\n",
       "      <th>4</th>\n",
       "      <td>5</td>\n",
       "      <td>Female</td>\n",
       "      <td>31</td>\n",
       "      <td>17</td>\n",
       "      <td>40</td>\n",
       "    </tr>\n",
       "    <tr>\n",
       "      <th>...</th>\n",
       "      <td>...</td>\n",
       "      <td>...</td>\n",
       "      <td>...</td>\n",
       "      <td>...</td>\n",
       "      <td>...</td>\n",
       "    </tr>\n",
       "    <tr>\n",
       "      <th>195</th>\n",
       "      <td>196</td>\n",
       "      <td>Female</td>\n",
       "      <td>35</td>\n",
       "      <td>120</td>\n",
       "      <td>79</td>\n",
       "    </tr>\n",
       "    <tr>\n",
       "      <th>196</th>\n",
       "      <td>197</td>\n",
       "      <td>Female</td>\n",
       "      <td>45</td>\n",
       "      <td>126</td>\n",
       "      <td>28</td>\n",
       "    </tr>\n",
       "    <tr>\n",
       "      <th>197</th>\n",
       "      <td>198</td>\n",
       "      <td>Male</td>\n",
       "      <td>32</td>\n",
       "      <td>126</td>\n",
       "      <td>74</td>\n",
       "    </tr>\n",
       "    <tr>\n",
       "      <th>198</th>\n",
       "      <td>199</td>\n",
       "      <td>Male</td>\n",
       "      <td>32</td>\n",
       "      <td>137</td>\n",
       "      <td>18</td>\n",
       "    </tr>\n",
       "    <tr>\n",
       "      <th>199</th>\n",
       "      <td>200</td>\n",
       "      <td>Male</td>\n",
       "      <td>30</td>\n",
       "      <td>137</td>\n",
       "      <td>83</td>\n",
       "    </tr>\n",
       "  </tbody>\n",
       "</table>\n",
       "<p>200 rows × 5 columns</p>\n",
       "</div>"
      ],
      "text/plain": [
       "     CustomerID   Genre  Age  Annual_Income_(k$)  Spending_Score\n",
       "0             1    Male   19                  15              39\n",
       "1             2    Male   21                  15              81\n",
       "2             3  Female   20                  16               6\n",
       "3             4  Female   23                  16              77\n",
       "4             5  Female   31                  17              40\n",
       "..          ...     ...  ...                 ...             ...\n",
       "195         196  Female   35                 120              79\n",
       "196         197  Female   45                 126              28\n",
       "197         198    Male   32                 126              74\n",
       "198         199    Male   32                 137              18\n",
       "199         200    Male   30                 137              83\n",
       "\n",
       "[200 rows x 5 columns]"
      ]
     },
     "execution_count": 26,
     "metadata": {},
     "output_type": "execute_result"
    }
   ],
   "source": [
    "dataset\n"
   ]
  },
  {
   "cell_type": "code",
   "execution_count": 56,
   "id": "a6a80869",
   "metadata": {},
   "outputs": [],
   "source": [
    "df=dataset"
   ]
  },
  {
   "cell_type": "code",
   "execution_count": 57,
   "id": "afc645ba",
   "metadata": {},
   "outputs": [],
   "source": [
    "#NOW I WILL PLOT A REGRESSION LINE ON AGE vs Cusomer Annual Income"
   ]
  },
  {
   "cell_type": "code",
   "execution_count": 58,
   "id": "2af99b1b",
   "metadata": {},
   "outputs": [
    {
     "name": "stdout",
     "output_type": "stream",
     "text": [
      "38.85\n",
      "60.56\n"
     ]
    }
   ],
   "source": [
    "x_mean=np.mean(df['Age'])\n",
    "y_mean=np.mean(df['Annual_Income_(k$)'])\n",
    "print(x_mean)\n",
    "print(y_mean)"
   ]
  },
  {
   "cell_type": "code",
   "execution_count": 59,
   "id": "f4ee461b",
   "metadata": {},
   "outputs": [
    {
     "data": {
      "text/plain": [
       "469646"
      ]
     },
     "execution_count": 59,
     "metadata": {},
     "output_type": "execute_result"
    }
   ],
   "source": [
    "xy_sum=0\n",
    "for i,j in zip(df['Age'],df['Annual_Income_(k$)']):\n",
    "    xy_sum=xy_sum+(i*j)\n",
    "xy_sum"
   ]
  },
  {
   "cell_type": "code",
   "execution_count": 60,
   "id": "78246401",
   "metadata": {},
   "outputs": [
    {
     "data": {
      "text/plain": [
       "340696"
      ]
     },
     "execution_count": 60,
     "metadata": {},
     "output_type": "execute_result"
    }
   ],
   "source": [
    "x_squre_sum=0\n",
    "for i in df['Age']:\n",
    "    x_squre_sum=x_squre_sum+(i**2)\n",
    "x_squre_sum"
   ]
  },
  {
   "cell_type": "code",
   "execution_count": 61,
   "id": "96f34664",
   "metadata": {},
   "outputs": [],
   "source": [
    "n=len(df)"
   ]
  },
  {
   "cell_type": "code",
   "execution_count": 62,
   "id": "bec87f77",
   "metadata": {},
   "outputs": [],
   "source": [
    "slope=(xy_sum+(n*x_mean*y_mean))/(x_squre_sum-(n*(x_mean**2)))"
   ]
  },
  {
   "cell_type": "code",
   "execution_count": 63,
   "id": "163502a9",
   "metadata": {},
   "outputs": [
    {
     "data": {
      "text/plain": [
       "24.212229761920124"
      ]
     },
     "execution_count": 63,
     "metadata": {},
     "output_type": "execute_result"
    }
   ],
   "source": [
    "slope"
   ]
  },
  {
   "cell_type": "code",
   "execution_count": 64,
   "id": "c6fb9b6b",
   "metadata": {},
   "outputs": [
    {
     "data": {
      "text/plain": [
       "-880.0851262505969"
      ]
     },
     "execution_count": 64,
     "metadata": {},
     "output_type": "execute_result"
    }
   ],
   "source": [
    "intercept=y_mean-(slope*x_mean)\n",
    "intercept"
   ]
  },
  {
   "cell_type": "code",
   "execution_count": 65,
   "id": "bb7fec55",
   "metadata": {},
   "outputs": [],
   "source": [
    "#formula y=slope*x  + intercept\n",
    "y_axis=[]\n",
    "for i in df['Age']:\n",
    "    temp=(slope*i)+intercept\n",
    "    y_axis.append(temp)"
   ]
  },
  {
   "cell_type": "code",
   "execution_count": 66,
   "id": "07e85bcf",
   "metadata": {},
   "outputs": [
    {
     "data": {
      "text/plain": [
       "[-420.0527607741145,\n",
       " -371.62830125027426,\n",
       " -395.8405310121944,\n",
       " -323.203841726434,\n",
       " -129.50600363107299,\n",
       " -347.4160714883542,\n",
       " -32.65708458339259,\n",
       " -323.203841726434,\n",
       " 669.497578512291,\n",
       " -153.71823339299317,\n",
       " 742.1342677980515,\n",
       " -32.65708458339259,\n",
       " 524.2241999407704,\n",
       " -298.99161196451394,\n",
       " 15.767374940447667,\n",
       " -347.4160714883542,\n",
       " -32.65708458339259,\n",
       " -395.8405310121944,\n",
       " 378.9508213692495,\n",
       " -32.65708458339259,\n",
       " -32.65708458339259,\n",
       " -274.77938220259375,\n",
       " 233.67744279772887,\n",
       " -129.50600363107299,\n",
       " 427.3752808930899,\n",
       " -177.93046315491324,\n",
       " 209.4652130358088,\n",
       " -32.65708458339259,\n",
       " 88.4040642262081,\n",
       " -323.203841726434,\n",
       " 572.6486594646105,\n",
       " -371.62830125027426,\n",
       " 403.1630511311696,\n",
       " -444.26499053603465,\n",
       " 306.3141320834891,\n",
       " -371.62830125027426,\n",
       " 136.82852375004836,\n",
       " -153.71823339299317,\n",
       " -8.444854821472404,\n",
       " -395.8405310121944,\n",
       " 693.7098082742111,\n",
       " -298.99161196451394,\n",
       " 282.101902321569,\n",
       " -129.50600363107299,\n",
       " 306.3141320834891,\n",
       " -298.99161196451394,\n",
       " 330.5263618454094,\n",
       " -226.3549226787535,\n",
       " -177.93046315491324,\n",
       " -129.50600363107299,\n",
       " 306.3141320834891,\n",
       " -81.08154410723284,\n",
       " -129.50600363107299,\n",
       " 548.4364297026905,\n",
       " 330.5263618454094,\n",
       " 257.88967255964894,\n",
       " 354.73859160732945,\n",
       " 790.5587273218916,\n",
       " -226.3549226787535,\n",
       " 403.1630511311696,\n",
       " 814.7709570838117,\n",
       " -420.0527607741145,\n",
       " 742.1342677980515,\n",
       " 427.3752808930899,\n",
       " 645.285348750371,\n",
       " -444.26499053603465,\n",
       " 161.04075351196843,\n",
       " 766.3464975599716,\n",
       " -420.0527607741145,\n",
       " -105.29377386915291,\n",
       " 814.7709570838117,\n",
       " 257.88967255964894,\n",
       " 572.6486594646105,\n",
       " 572.6486594646105,\n",
       " 548.4364297026905,\n",
       " -250.56715244067368,\n",
       " 209.4652130358088,\n",
       " 88.4040642262081,\n",
       " -323.203841726434,\n",
       " 306.3141320834891,\n",
       " 500.0119701788501,\n",
       " 39.97960470236785,\n",
       " 742.1342677980515,\n",
       " 233.67744279772887,\n",
       " -371.62830125027426,\n",
       " 282.101902321569,\n",
       " 451.58751065500996,\n",
       " -347.4160714883542,\n",
       " -56.86931434531266,\n",
       " 330.5263618454094,\n",
       " 766.3464975599716,\n",
       " -444.26499053603465,\n",
       " 282.101902321569,\n",
       " 88.4040642262081,\n",
       " -105.29377386915291,\n",
       " -298.99161196451394,\n",
       " 257.88967255964894,\n",
       " -226.3549226787535,\n",
       " 282.101902321569,\n",
       " -395.8405310121944,\n",
       " -323.203841726434,\n",
       " 306.3141320834891,\n",
       " 742.1342677980515,\n",
       " -250.56715244067368,\n",
       " 306.3141320834891,\n",
       " -371.62830125027426,\n",
       " 717.9220380361312,\n",
       " 427.3752808930899,\n",
       " 766.3464975599716,\n",
       " 717.9220380361312,\n",
       " 693.7098082742111,\n",
       " -420.0527607741145,\n",
       " 39.97960470236785,\n",
       " -420.0527607741145,\n",
       " -444.26499053603465,\n",
       " -420.0527607741145,\n",
       " 645.285348750371,\n",
       " 306.3141320834891,\n",
       " 354.73859160732945,\n",
       " 330.5263618454094,\n",
       " -226.3549226787535,\n",
       " 39.97960470236785,\n",
       " 88.4040642262081,\n",
       " 64.19183446428792,\n",
       " -323.203841726434,\n",
       " -129.50600363107299,\n",
       " 161.04075351196843,\n",
       " 88.4040642262081,\n",
       " 548.4364297026905,\n",
       " 39.97960470236785,\n",
       " 257.88967255964894,\n",
       " 64.19183446428792,\n",
       " -274.77938220259375,\n",
       " -129.50600363107299,\n",
       " -395.8405310121944,\n",
       " -177.93046315491324,\n",
       " 185.2529832738885,\n",
       " -105.29377386915291,\n",
       " -420.0527607741145,\n",
       " -32.65708458339259,\n",
       " 500.0119701788501,\n",
       " -105.29377386915291,\n",
       " -202.14269291683343,\n",
       " -105.29377386915291,\n",
       " -274.77938220259375,\n",
       " -202.14269291683343,\n",
       " 282.101902321569,\n",
       " -105.29377386915291,\n",
       " -56.86931434531266,\n",
       " -56.86931434531266,\n",
       " 161.04075351196843,\n",
       " 64.19183446428792,\n",
       " 185.2529832738885,\n",
       " 39.97960470236785,\n",
       " 257.88967255964894,\n",
       " -226.3549226787535,\n",
       " 15.767374940447667,\n",
       " -153.71823339299317,\n",
       " -56.86931434531266,\n",
       " -153.71823339299317,\n",
       " 475.79974041693004,\n",
       " -177.93046315491324,\n",
       " -420.0527607741145,\n",
       " -129.50600363107299,\n",
       " 330.5263618454094,\n",
       " -8.444854821472404,\n",
       " 136.82852375004836,\n",
       " -81.08154410723284,\n",
       " -8.444854821472404,\n",
       " -105.29377386915291,\n",
       " 88.4040642262081,\n",
       " -202.14269291683343,\n",
       " -8.444854821472404,\n",
       " -8.444854821472404,\n",
       " 378.9508213692495,\n",
       " -153.71823339299317,\n",
       " 524.2241999407704,\n",
       " -226.3549226787535,\n",
       " 548.4364297026905,\n",
       " -32.65708458339259,\n",
       " 15.767374940447667,\n",
       " -105.29377386915291,\n",
       " 233.67744279772887,\n",
       " -177.93046315491324,\n",
       " 112.61629398812818,\n",
       " -153.71823339299317,\n",
       " 427.3752808930899,\n",
       " -202.14269291683343,\n",
       " 112.61629398812818,\n",
       " -8.444854821472404,\n",
       " -56.86931434531266,\n",
       " -105.29377386915291,\n",
       " -81.08154410723284,\n",
       " 39.97960470236785,\n",
       " 257.88967255964894,\n",
       " -32.65708458339259,\n",
       " 209.4652130358088,\n",
       " -105.29377386915291,\n",
       " -105.29377386915291,\n",
       " -153.71823339299317]"
      ]
     },
     "execution_count": 66,
     "metadata": {},
     "output_type": "execute_result"
    }
   ],
   "source": [
    "y_axis"
   ]
  },
  {
   "cell_type": "code",
   "execution_count": 67,
   "id": "8f2ae8ba",
   "metadata": {},
   "outputs": [],
   "source": [
    "from matplotlib import pyplot as plt"
   ]
  },
  {
   "cell_type": "code",
   "execution_count": 75,
   "id": "e3eda4d8",
   "metadata": {},
   "outputs": [
    {
     "data": {
      "image/png": "[encoded data removed]",
      "text/plain": [
       "<Figure size 1000x1000 with 1 Axes>"
      ]
     },
     "metadata": {},
     "output_type": "display_data"
    }
   ],
   "source": [
    "plt.figure(figsize=(10,10))\n",
    "plt.plot(df['Age'], y_axis)\n",
    "plt.scatter(df['Age'], df['Annual_Income_(k$)'], linestyle='-', color='red')\n",
    "plt.show()"
   ]
  },
  {
   "cell_type": "code",
   "execution_count": null,
   "id": "dd628314",
   "metadata": {},
   "outputs": [],
   "source": []
  }
 ],
 "metadata": {
  "kernelspec": {
   "display_name": "Python 3 (ipykernel)",
   "language": "python",
   "name": "python3"
  },
  "language_info": {
   "codemirror_mode": {
    "name": "ipython",
    "version": 3
   },
   "file_extension": ".py",
   "mimetype": "text/x-python",
   "name": "python",
   "nbconvert_exporter": "python",
   "pygments_lexer": "ipython3",
   "version": "3.11.5"
  }
 },
 "nbformat": 4,
 "nbformat_minor": 5
}
